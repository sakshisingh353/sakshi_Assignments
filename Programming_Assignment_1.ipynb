{
 "cells": [
  {
   "cell_type": "markdown",
   "id": "30797fc6",
   "metadata": {},
   "source": [
    "### 1.Write a Python program to print \"Hello Python\"?"
   ]
  },
  {
   "cell_type": "code",
   "execution_count": 1,
   "id": "3957159e",
   "metadata": {},
   "outputs": [],
   "source": [
    "def hello():\n",
    "    print('Hello Python')"
   ]
  },
  {
   "cell_type": "code",
   "execution_count": 2,
   "id": "707169e5",
   "metadata": {},
   "outputs": [
    {
     "name": "stdout",
     "output_type": "stream",
     "text": [
      "Hello Python\n"
     ]
    }
   ],
   "source": [
    "hello()"
   ]
  },
  {
   "cell_type": "markdown",
   "id": "52dbb313",
   "metadata": {},
   "source": [
    "### 2.Write a Python program to do arithmetical operations addition and division.?"
   ]
  },
  {
   "cell_type": "code",
   "execution_count": 3,
   "id": "b32b52dd",
   "metadata": {},
   "outputs": [],
   "source": [
    "def arithmetic(x,y):\n",
    "    print('Addition',x+y)\n",
    "    print('Division',x/y)"
   ]
  },
  {
   "cell_type": "code",
   "execution_count": 4,
   "id": "442aed42",
   "metadata": {},
   "outputs": [
    {
     "name": "stdout",
     "output_type": "stream",
     "text": [
      "Addition 12\n",
      "Division 5.0\n"
     ]
    }
   ],
   "source": [
    " arithmetic(10,2)"
   ]
  },
  {
   "cell_type": "code",
   "execution_count": null,
   "id": "d5fbfc6f",
   "metadata": {},
   "outputs": [],
   "source": []
  },
  {
   "cell_type": "markdown",
   "id": "7d62632e",
   "metadata": {},
   "source": [
    "### 3.Write a Python program to find the area of a triangle?"
   ]
  },
  {
   "cell_type": "raw",
   "id": "8628ed9e",
   "metadata": {},
   "source": [
    "Area of the triangle=1/2 *base*height"
   ]
  },
  {
   "cell_type": "code",
   "execution_count": 5,
   "id": "16ad4649",
   "metadata": {},
   "outputs": [],
   "source": [
    "def area(base,height):\n",
    "    print(\"Area of the trainge=\",(base*height)/2)"
   ]
  },
  {
   "cell_type": "code",
   "execution_count": 6,
   "id": "558e0395",
   "metadata": {},
   "outputs": [
    {
     "name": "stdout",
     "output_type": "stream",
     "text": [
      "Area of the trainge= 15.0\n"
     ]
    }
   ],
   "source": [
    "area(10,3)"
   ]
  },
  {
   "cell_type": "code",
   "execution_count": null,
   "id": "c8e2f309",
   "metadata": {},
   "outputs": [],
   "source": []
  },
  {
   "cell_type": "markdown",
   "id": "5d96e54c",
   "metadata": {},
   "source": [
    "### 4.Write a Python program to swap two variables?"
   ]
  },
  {
   "cell_type": "code",
   "execution_count": null,
   "id": "590ecd68",
   "metadata": {},
   "outputs": [],
   "source": [
    "a=1\n",
    "b=2"
   ]
  },
  {
   "cell_type": "code",
   "execution_count": 7,
   "id": "0df37b04",
   "metadata": {},
   "outputs": [],
   "source": [
    "def swap(a,b):\n",
    "    print(\"original values\",a ,b)\n",
    "    temp=0\n",
    "    temp=a\n",
    "    a=b\n",
    "    b=temp\n",
    "    print(\"After swap Values\",a,b)\n",
    "    "
   ]
  },
  {
   "cell_type": "code",
   "execution_count": 8,
   "id": "ec78da12",
   "metadata": {},
   "outputs": [
    {
     "name": "stdout",
     "output_type": "stream",
     "text": [
      "original values 1 2\n",
      "After swap Values 2 1\n"
     ]
    }
   ],
   "source": [
    "swap(1,2)"
   ]
  },
  {
   "cell_type": "markdown",
   "id": "a2073d93",
   "metadata": {},
   "source": [
    "### 5.Write a Python program to generate a random number?"
   ]
  },
  {
   "cell_type": "code",
   "execution_count": 10,
   "id": "ba261991",
   "metadata": {},
   "outputs": [
    {
     "name": "stdout",
     "output_type": "stream",
     "text": [
      "4\n"
     ]
    }
   ],
   "source": [
    "import random\n",
    "\n",
    "print(random.randint(0,9))"
   ]
  },
  {
   "cell_type": "code",
   "execution_count": null,
   "id": "5a8c2385",
   "metadata": {},
   "outputs": [],
   "source": []
  }
 ],
 "metadata": {
  "kernelspec": {
   "display_name": "Python 3 (ipykernel)",
   "language": "python",
   "name": "python3"
  },
  "language_info": {
   "codemirror_mode": {
    "name": "ipython",
    "version": 3
   },
   "file_extension": ".py",
   "mimetype": "text/x-python",
   "name": "python",
   "nbconvert_exporter": "python",
   "pygments_lexer": "ipython3",
   "version": "3.9.13"
  }
 },
 "nbformat": 4,
 "nbformat_minor": 5
}
