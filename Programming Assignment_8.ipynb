{
 "cells": [
  {
   "cell_type": "raw",
   "id": "7ca2dd30",
   "metadata": {},
   "source": [
    "1. Write a Python Program to Add Two Matrices?\n",
    "2. Write a Python Program to Multiply Two Matrices?\n",
    "3. Write a Python Program to Transpose a Matrix?\n",
    "4. Write a Python Program to Sort Words in Alphabetic Order?\n",
    "5. Write a Python Program to Remove Punctuation From a String?"
   ]
  },
  {
   "cell_type": "code",
   "execution_count": 3,
   "id": "9936622a",
   "metadata": {},
   "outputs": [],
   "source": [
    "import numpy as np"
   ]
  },
  {
   "cell_type": "markdown",
   "id": "79982a96",
   "metadata": {},
   "source": [
    "### 1. Write a Python Program to Add Two Matrices?\n"
   ]
  },
  {
   "cell_type": "code",
   "execution_count": 13,
   "id": "9c20621b",
   "metadata": {},
   "outputs": [
    {
     "name": "stdout",
     "output_type": "stream",
     "text": [
      "Addition of two matrices: [[ 7 10]\n",
      " [ 7  9]]\n"
     ]
    }
   ],
   "source": [
    "a=np.matrix([[2,4],[5,6]])\n",
    "b=np.matrix([[5,6],[2,3]])\n",
    "print(\"Addition of two matrices:\", a+b)\n"
   ]
  },
  {
   "cell_type": "markdown",
   "id": "22dfa3c7",
   "metadata": {},
   "source": [
    "### 2. Write a Python Program to Multiply Two Matrices?\n"
   ]
  },
  {
   "cell_type": "code",
   "execution_count": 14,
   "id": "70498082",
   "metadata": {},
   "outputs": [
    {
     "name": "stdout",
     "output_type": "stream",
     "text": [
      "Multiplication of two matrices: [[18 24]\n",
      " [37 48]]\n"
     ]
    }
   ],
   "source": [
    "a=np.matrix([[2,4],[5,6]])\n",
    "b=np.matrix([[5,6],[2,3]])\n",
    "print(\"Multiplication of two matrices:\", a*b)"
   ]
  },
  {
   "cell_type": "markdown",
   "id": "737f63c0",
   "metadata": {},
   "source": [
    "### 3. Write a Python Program to Transpose a Matrix?\n"
   ]
  },
  {
   "cell_type": "code",
   "execution_count": 16,
   "id": "c48072fe",
   "metadata": {},
   "outputs": [
    {
     "data": {
      "text/plain": [
       "matrix([[2, 5],\n",
       "        [4, 6]])"
      ]
     },
     "execution_count": 16,
     "metadata": {},
     "output_type": "execute_result"
    }
   ],
   "source": [
    "a.transpose()"
   ]
  },
  {
   "cell_type": "markdown",
   "id": "3198424c",
   "metadata": {},
   "source": [
    "### 4. Write a Python Program to Sort Words in Alphabetic Order?\n"
   ]
  },
  {
   "cell_type": "code",
   "execution_count": 19,
   "id": "f51310c2",
   "metadata": {},
   "outputs": [],
   "source": [
    "words=['test','play','air','river','mountains']\n",
    "words.sort()"
   ]
  },
  {
   "cell_type": "code",
   "execution_count": 20,
   "id": "ba4c5c54",
   "metadata": {},
   "outputs": [
    {
     "data": {
      "text/plain": [
       "['air', 'mountains', 'play', 'river', 'test']"
      ]
     },
     "execution_count": 20,
     "metadata": {},
     "output_type": "execute_result"
    }
   ],
   "source": [
    "words"
   ]
  },
  {
   "cell_type": "markdown",
   "id": "b12c3457",
   "metadata": {},
   "source": [
    "### 5. Write a Python Program to Remove Punctuation From a String?"
   ]
  },
  {
   "cell_type": "code",
   "execution_count": 30,
   "id": "5958991a",
   "metadata": {},
   "outputs": [],
   "source": [
    "import re"
   ]
  },
  {
   "cell_type": "code",
   "execution_count": 40,
   "id": "3aad926a",
   "metadata": {},
   "outputs": [],
   "source": [
    "text_string='I, am using punctuation marks! for testing.'"
   ]
  },
  {
   "cell_type": "code",
   "execution_count": 41,
   "id": "c594c9e2",
   "metadata": {},
   "outputs": [],
   "source": [
    "res = re.sub(r'[^\\w\\s]', '', text_string)\n"
   ]
  },
  {
   "cell_type": "code",
   "execution_count": 42,
   "id": "9cc5dd7c",
   "metadata": {},
   "outputs": [
    {
     "data": {
      "text/plain": [
       "'I am using punctuation marks for testing'"
      ]
     },
     "execution_count": 42,
     "metadata": {},
     "output_type": "execute_result"
    }
   ],
   "source": [
    "res"
   ]
  },
  {
   "cell_type": "code",
   "execution_count": null,
   "id": "5bad5a41",
   "metadata": {},
   "outputs": [],
   "source": []
  }
 ],
 "metadata": {
  "kernelspec": {
   "display_name": "Python 3 (ipykernel)",
   "language": "python",
   "name": "python3"
  },
  "language_info": {
   "codemirror_mode": {
    "name": "ipython",
    "version": 3
   },
   "file_extension": ".py",
   "mimetype": "text/x-python",
   "name": "python",
   "nbconvert_exporter": "python",
   "pygments_lexer": "ipython3",
   "version": "3.9.13"
  }
 },
 "nbformat": 4,
 "nbformat_minor": 5
}
