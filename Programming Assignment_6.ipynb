{
 "cells": [
  {
   "cell_type": "raw",
   "id": "5cfde7b0",
   "metadata": {},
   "source": [
    "1. Write a Python Program to Display Fibonacci Sequence Using Recursion?\n",
    "2. Write a Python Program to Find Factorial of Number Using Recursion?\n",
    "3. Write a Python Program to calculate your Body Mass Index?\n",
    "4. Write a Python Program to calculate the natural logarithm of any number?\n",
    "5. Write a Python Program for cube sum of first n natural numbers?"
   ]
  },
  {
   "cell_type": "code",
   "execution_count": 6,
   "id": "be213ea2",
   "metadata": {},
   "outputs": [
    {
     "name": "stdout",
     "output_type": "stream",
     "text": [
      "Fibonacci sequence:\n",
      "0\n",
      "1\n",
      "1\n",
      "2\n",
      "3\n",
      "5\n",
      "8\n",
      "13\n",
      "21\n",
      "34\n"
     ]
    }
   ],
   "source": [
    "#Write a Python Program to Display Fibonacci Sequence Using Recursion?\n",
    "def recur_fibo(n):\n",
    "    if n <= 1:\n",
    "            return n\n",
    "    else:\n",
    "            return(recur_fibo(n-1) + recur_fibo(n-2))\n",
    "\n",
    "nterms = 10\n",
    "\n",
    "\n",
    "if nterms <= 0:\n",
    "       print(\"Plese enter a positive integer\")\n",
    "else:\n",
    "        print(\"Fibonacci sequence:\")\n",
    "        for i in range(nterms):\n",
    "            print(recur_fibo(i))"
   ]
  },
  {
   "cell_type": "code",
   "execution_count": 14,
   "id": "8e75d0a7",
   "metadata": {},
   "outputs": [
    {
     "name": "stdout",
     "output_type": "stream",
     "text": [
      "120\n"
     ]
    }
   ],
   "source": [
    "#Write a Python Program to Find Factorial of Number Using Recursion\n",
    "def factorial(n):\n",
    "    if n==1:\n",
    "        return n\n",
    "    else:\n",
    "        return n*factorial(n-1)\n",
    "    \n",
    "n=5   \n",
    "\n",
    "if n<0:\n",
    "    print(\"Please enter a non negative number\")\n",
    "\n",
    "else:\n",
    "    print (factorial(n))\n",
    "        \n",
    "\n",
    "        "
   ]
  },
  {
   "cell_type": "code",
   "execution_count": 15,
   "id": "e0ce7e59",
   "metadata": {},
   "outputs": [],
   "source": [
    " #Write a Python Program to calculate your Body Mass Index?\n",
    "def bmi_calculator():\n",
    "    height=float(input(\"Enter height in feet:\"))\n",
    "    weight=float(input(\"Enter weight in kg:\"))\n",
    "    bmi=weight/(height*height)\n",
    "    print(bmi)\n",
    "    "
   ]
  },
  {
   "cell_type": "code",
   "execution_count": 19,
   "id": "b14b8a25",
   "metadata": {},
   "outputs": [
    {
     "name": "stdout",
     "output_type": "stream",
     "text": [
      "Enter height in meters:5.2\n",
      "Enter weight in kg:55\n",
      "2.034023668639053\n"
     ]
    }
   ],
   "source": [
    "bmi_calculator()"
   ]
  },
  {
   "cell_type": "code",
   "execution_count": 22,
   "id": "8a4d9c07",
   "metadata": {},
   "outputs": [
    {
     "data": {
      "text/plain": [
       "1.0"
      ]
     },
     "execution_count": 22,
     "metadata": {},
     "output_type": "execute_result"
    }
   ],
   "source": [
    " #Write a Python Program to calculate the natural logarithm of any number\n",
    "import math\n",
    "math.log(10,10)"
   ]
  },
  {
   "cell_type": "code",
   "execution_count": 27,
   "id": "033cd8dd",
   "metadata": {},
   "outputs": [
    {
     "name": "stdout",
     "output_type": "stream",
     "text": [
      "225\n"
     ]
    }
   ],
   "source": [
    "#Write a Python Program for cube sum of first n natural numbers?\n",
    "n=5\n",
    "s=0\n",
    "# iterating loop up to given number n\n",
    "for i in range(1,n+1):\n",
    "    \n",
    "    s=s+pow(i,3)\n",
    "print(s)   \n",
    " \n",
    "    "
   ]
  },
  {
   "cell_type": "code",
   "execution_count": null,
   "id": "89b0dc54",
   "metadata": {},
   "outputs": [],
   "source": []
  }
 ],
 "metadata": {
  "kernelspec": {
   "display_name": "Python 3 (ipykernel)",
   "language": "python",
   "name": "python3"
  },
  "language_info": {
   "codemirror_mode": {
    "name": "ipython",
    "version": 3
   },
   "file_extension": ".py",
   "mimetype": "text/x-python",
   "name": "python",
   "nbconvert_exporter": "python",
   "pygments_lexer": "ipython3",
   "version": "3.9.13"
  }
 },
 "nbformat": 4,
 "nbformat_minor": 5
}
